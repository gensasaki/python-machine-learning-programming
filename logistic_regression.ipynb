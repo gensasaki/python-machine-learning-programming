{
  "nbformat": 4,
  "nbformat_minor": 0,
  "metadata": {
    "colab": {
      "name": "Untitled2.ipynb",
      "version": "0.3.2",
      "provenance": [],
      "include_colab_link": true
    }
  },
  "cells": [
    {
      "cell_type": "markdown",
      "metadata": {
        "id": "view-in-github",
        "colab_type": "text"
      },
      "source": [
        "[View in Colaboratory](https://colab.research.google.com/github/gensasaki/python-machine-learning-programming/blob/master/logistic_regression.ipynb)"
      ]
    },
    {
      "metadata": {
        "id": "LumN8VkkU8EJ",
        "colab_type": "text"
      },
      "cell_type": "markdown",
      "source": [
        "# ロジスティック回帰\n",
        "ロジスティック回帰は二値分類のための線形モデルであり、一対他手法に基づいて多クラス問題へと拡張できる。"
      ]
    },
    {
      "metadata": {
        "id": "3Mwf1g-fXX99",
        "colab_type": "text"
      },
      "cell_type": "markdown",
      "source": [
        "## ロジット関数とロジスティック（シグモイド）関数\n",
        "\n",
        "### ロジット関数\n",
        "$logit \\left( p\\right) =\\log \\dfrac {p}{\\left( 1-p\\right) }$ </br>\n",
        "ロジット関数は0よりも大きく、1よりも小さい入力値を受け取り、それらを字数の全範囲に変換する。pは正事象の確率を表す。\n",
        "\n",
        "### ロジスティック（シグモイド）関数\n",
        "$\\phi \\left( z\\right) =\\dfrac {1}{1+e^{-z}}$ </br>\n",
        "ロジスティック（シグモイド）関数はロジット関数の逆関数である。"
      ]
    },
    {
      "metadata": {
        "id": "jXDnyPyYcI2r",
        "colab_type": "code",
        "colab": {
          "base_uri": "https://localhost:8080/",
          "height": 401
        },
        "outputId": "8351995f-e1d4-4553-8eb4-b337bc081f44"
      },
      "cell_type": "code",
      "source": [
        "import matplotlib.pyplot as plt\n",
        "import numpy as np\n",
        "\n",
        "# シグモイド関数を定義\n",
        "def sigmoid(z):\n",
        "  return 1. / (1. + np.exp(-z))\n",
        "\n",
        "# .1間隔で-7以上7未満のデータを生成\n",
        "z = np.arange(-7, 7, .1)\n",
        "# 生成したデータでシグモイド関数を実行\n",
        "phi_z = sigmoid(z)\n",
        "# もとのデータzとシグモイド関数の出力phi_zの出力をプロット\n",
        "plt.plot(z, phi_z)\n",
        "# 垂直線を追加（z=0）\n",
        "plt.axvline(.0, color=\"k\")\n",
        "# y軸の上限 / 下限を設定\n",
        "plt.ylim(-.1, 1.1)\n",
        "# 軸のラベルを設定\n",
        "plt.xlabel(\"z\")\n",
        "plt.ylabel(\"$\\phi (z)$\")\n",
        "# y軸の目盛りを追加\n",
        "plt.yticks([.0, .5, 1.])\n",
        "# Axesクラスのオブジェクトの取得, gcaはget the current axes instance\n",
        "ax = plt.gca()\n",
        "# y軸の目盛りに合わせて水平グリッド線を追加\n",
        "ax.yaxis.grid(True)\n",
        "\n",
        "# グラフを表示\n",
        "plt.tight_layout()\n",
        "plt.show()"
      ],
      "execution_count": 8,
      "outputs": [
        {
          "output_type": "display_data",
          "data": {
            "image/png": "[encoded data removed]",
            "text/plain": [
              "<matplotlib.figure.Figure at 0x7fa357c902d0>"
            ]
          },
          "metadata": {
            "tags": []
          }
        }
      ]
    },
    {
      "metadata": {
        "id": "Pd_cbJ8wfG6r",
        "colab_type": "text"
      },
      "cell_type": "markdown",
      "source": [
        "zが0以上でクラスラベル1を、0未満でクラスラベル0を割り当てることで二値分類を行う。また、分類だけでなくクラスの所属関係の確率も見積もることができる。"
      ]
    }
  ]
}