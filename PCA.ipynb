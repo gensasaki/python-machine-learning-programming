{
  "nbformat": 4,
  "nbformat_minor": 0,
  "metadata": {
    "colab": {
      "name": "PCA.ipynb",
      "version": "0.3.2",
      "provenance": [],
      "collapsed_sections": [],
      "include_colab_link": true
    },
    "kernelspec": {
      "name": "python3",
      "display_name": "Python 3"
    }
  },
  "cells": [
    {
      "cell_type": "markdown",
      "metadata": {
        "id": "view-in-github",
        "colab_type": "text"
      },
      "source": [
        "[View in Colaboratory](https://colab.research.google.com/github/gensasaki/python-machine-learning-programming/blob/master/PCA.ipynb)"
      ]
    },
    {
      "metadata": {
        "id": "sXtF8bgVa8SB",
        "colab_type": "text"
      },
      "cell_type": "markdown",
      "source": [
        "# 概要\n",
        "\n",
        "主成分分析（Principal Componrnt Analysis: PCA）は、**教師なしの**線形変換法で、分散が大きくなる変数ベクトルを使って、与えられたデータよりも低次元の部分空間に射影することである。主に特徴抽出と次元削減を目的に使用する。\n",
        "\n",
        "# 手順\n",
        "\n",
        "1.   d次元のデータセットを標準化する。\n",
        "2.   標準化したデータセットの分散共分散行列を求める。\n",
        "3.   分散共分散行列を固有値と固有ベクトルに分解する。\n",
        "4.   固有値を降順でソートし、対応する固有ベクトルの大きさをランク付けする。\n",
        "5.   最も大きいk個の固有値に対応する固有ベクトルを選択する。この場合のkは新しい特徴部分空間の次元数を表す（k <= 1）。\n",
        "6.   上位k個の固有ベクトルから射影行列Wを作成する。\n",
        "7.   射影行列Wを使って元のd次元のデータセットXを、射影行列Wを使って変換し、新しいk次元の特徴部分空間を得る。"
      ]
    },
    {
      "metadata": {
        "id": "hUX5v27Wfl2b",
        "colab_type": "text"
      },
      "cell_type": "markdown",
      "source": [
        "# データセット\n",
        "次のワインのデータセットを使用する。\n",
        "http://archive.ics.uci.edu/ml/datasets/Wine\n",
        "ワインは3クラス（品種）ある。"
      ]
    },
    {
      "metadata": {
        "id": "ToUGrUHH-h9w",
        "colab_type": "text"
      },
      "cell_type": "markdown",
      "source": [
        "## データの前処理"
      ]
    },
    {
      "metadata": {
        "id": "8q5okr3Xeajj",
        "colab_type": "code",
        "colab": {
          "base_uri": "https://localhost:8080/",
          "height": 17
        },
        "outputId": "3f0552d6-7108-4d30-c4a5-444142ec92cc"
      },
      "cell_type": "code",
      "source": [
        "import numpy as np\n",
        "import pandas as pd\n",
        "\"\"df_wine = pd.read_csv(\"https://archive.ics.uci.edu/ml/machine-learning-databases/wine/wine.data\", header=None)\n",
        "df_wine.columns = [\"Class label\", \"Alcohol\", \"Malic Acid\", \"Ash\", \"Alcalinity of ash\", \"Magnesium\", \"Total phenols\", \"Flavanoids\",\n",
        "                   \"Nonflavanoid phenols\", \"Proanthocyanins\", \"Color intensity\", \"Hue\", \"OD280/OD315 of diluted wines\", \"Proline\"]"
      ],
      "execution_count": 1,
      "outputs": []
    },
    {
      "metadata": {
        "id": "m_EeONs1et1i",
        "colab_type": "code",
        "colab": {
          "base_uri": "https://localhost:8080/",
          "height": 204
        },
        "outputId": "614373ae-9b16-46c3-d328-2b27eb2665d7"
      },
      "cell_type": "code",
      "source": [
        "df_wine.head()"
      ],
      "execution_count": 2,
      "outputs": [
        {
          "output_type": "execute_result",
          "data": {
            "text/html": [
              "<div>\n",
              "<style scoped>\n",
              "    .dataframe tbody tr th:only-of-type {\n",
              "        vertical-align: middle;\n",
              "    }\n",
              "\n",
              "    .dataframe tbody tr th {\n",
              "        vertical-align: top;\n",
              "    }\n",
              "\n",
              "    .dataframe thead th {\n",
              "        text-align: right;\n",
              "    }\n",
              "</style>\n",
              "<table border=\"1\" class=\"dataframe\">\n",
              "  <thead>\n",
              "    <tr style=\"text-align: right;\">\n",
              "      <th></th>\n",
              "      <th>Class label</th>\n",
              "      <th>Alcohol</th>\n",
              "      <th>Malic Acid</th>\n",
              "      <th>Ash</th>\n",
              "      <th>Alcalinity of ash</th>\n",
              "      <th>Magnesium</th>\n",
              "      <th>Total phenols</th>\n",
              "      <th>Flavanoids</th>\n",
              "      <th>Nonflavanoid phenols</th>\n",
              "      <th>Proanthocyanins</th>\n",
              "      <th>Color intensity</th>\n",
              "      <th>Hue</th>\n",
              "      <th>OD280/OD315 of diluted wines</th>\n",
              "      <th>Proline</th>\n",
              "    </tr>\n",
              "  </thead>\n",
              "  <tbody>\n",
              "    <tr>\n",
              "      <th>0</th>\n",
              "      <td>1</td>\n",
              "      <td>14.23</td>\n",
              "      <td>1.71</td>\n",
              "      <td>2.43</td>\n",
              "      <td>15.6</td>\n",
              "      <td>127</td>\n",
              "      <td>2.80</td>\n",
              "      <td>3.06</td>\n",
              "      <td>0.28</td>\n",
              "      <td>2.29</td>\n",
              "      <td>5.64</td>\n",
              "      <td>1.04</td>\n",
              "      <td>3.92</td>\n",
              "      <td>1065</td>\n",
              "    </tr>\n",
              "    <tr>\n",
              "      <th>1</th>\n",
              "      <td>1</td>\n",
              "      <td>13.20</td>\n",
              "      <td>1.78</td>\n",
              "      <td>2.14</td>\n",
              "      <td>11.2</td>\n",
              "      <td>100</td>\n",
              "      <td>2.65</td>\n",
              "      <td>2.76</td>\n",
              "      <td>0.26</td>\n",
              "      <td>1.28</td>\n",
              "      <td>4.38</td>\n",
              "      <td>1.05</td>\n",
              "      <td>3.40</td>\n",
              "      <td>1050</td>\n",
              "    </tr>\n",
              "    <tr>\n",
              "      <th>2</th>\n",
              "      <td>1</td>\n",
              "      <td>13.16</td>\n",
              "      <td>2.36</td>\n",
              "      <td>2.67</td>\n",
              "      <td>18.6</td>\n",
              "      <td>101</td>\n",
              "      <td>2.80</td>\n",
              "      <td>3.24</td>\n",
              "      <td>0.30</td>\n",
              "      <td>2.81</td>\n",
              "      <td>5.68</td>\n",
              "      <td>1.03</td>\n",
              "      <td>3.17</td>\n",
              "      <td>1185</td>\n",
              "    </tr>\n",
              "    <tr>\n",
              "      <th>3</th>\n",
              "      <td>1</td>\n",
              "      <td>14.37</td>\n",
              "      <td>1.95</td>\n",
              "      <td>2.50</td>\n",
              "      <td>16.8</td>\n",
              "      <td>113</td>\n",
              "      <td>3.85</td>\n",
              "      <td>3.49</td>\n",
              "      <td>0.24</td>\n",
              "      <td>2.18</td>\n",
              "      <td>7.80</td>\n",
              "      <td>0.86</td>\n",
              "      <td>3.45</td>\n",
              "      <td>1480</td>\n",
              "    </tr>\n",
              "    <tr>\n",
              "      <th>4</th>\n",
              "      <td>1</td>\n",
              "      <td>13.24</td>\n",
              "      <td>2.59</td>\n",
              "      <td>2.87</td>\n",
              "      <td>21.0</td>\n",
              "      <td>118</td>\n",
              "      <td>2.80</td>\n",
              "      <td>2.69</td>\n",
              "      <td>0.39</td>\n",
              "      <td>1.82</td>\n",
              "      <td>4.32</td>\n",
              "      <td>1.04</td>\n",
              "      <td>2.93</td>\n",
              "      <td>735</td>\n",
              "    </tr>\n",
              "  </tbody>\n",
              "</table>\n",
              "</div>"
            ],
            "text/plain": [
              "   Class label  Alcohol  Malic Acid   Ash  Alcalinity of ash  Magnesium  \\\n",
              "0            1    14.23        1.71  2.43               15.6        127   \n",
              "1            1    13.20        1.78  2.14               11.2        100   \n",
              "2            1    13.16        2.36  2.67               18.6        101   \n",
              "3            1    14.37        1.95  2.50               16.8        113   \n",
              "4            1    13.24        2.59  2.87               21.0        118   \n",
              "\n",
              "   Total phenols  Flavanoids  Nonflavanoid phenols  Proanthocyanins  \\\n",
              "0           2.80        3.06                  0.28             2.29   \n",
              "1           2.65        2.76                  0.26             1.28   \n",
              "2           2.80        3.24                  0.30             2.81   \n",
              "3           3.85        3.49                  0.24             2.18   \n",
              "4           2.80        2.69                  0.39             1.82   \n",
              "\n",
              "   Color intensity   Hue  OD280/OD315 of diluted wines  Proline  \n",
              "0             5.64  1.04                          3.92     1065  \n",
              "1             4.38  1.05                          3.40     1050  \n",
              "2             5.68  1.03                          3.17     1185  \n",
              "3             7.80  0.86                          3.45     1480  \n",
              "4             4.32  1.04                          2.93      735  "
            ]
          },
          "metadata": {
            "tags": []
          },
          "execution_count": 2
        }
      ]
    },
    {
      "metadata": {
        "id": "gUCpPy_5lrYx",
        "colab_type": "code",
        "colab": {
          "base_uri": "https://localhost:8080/",
          "height": 34
        },
        "outputId": "8b18f476-ee4b-4101-ac0b-6a55cf16864a"
      },
      "cell_type": "code",
      "source": [
        "# クラスラベルを表示\n",
        "print(\"Class label\", np.unique(df_wine[\"Class label\"]))"
      ],
      "execution_count": 3,
      "outputs": [
        {
          "output_type": "stream",
          "text": [
            "Class label [1 2 3]\n"
          ],
          "name": "stdout"
        }
      ]
    },
    {
      "metadata": {
        "id": "o_TNo1yCe1tE",
        "colab_type": "code",
        "colab": {
          "base_uri": "https://localhost:8080/",
          "height": 17
        },
        "outputId": "139dabec-35cf-461a-98bb-77a35f73e1fa"
      },
      "cell_type": "code",
      "source": [
        "# データセットをトレーニング用（70%）、テスト用（30%）に分割\n",
        "from sklearn.model_selection import train_test_split\n",
        "from sklearn.preprocessing import StandardScaler\n",
        "\n",
        "# 2列目以降のデータをXに、1列目のデータをyに格納\n",
        "X, y = df_wine.iloc[:, 1:].values, df_wine.iloc[:, 0].values\n",
        "X_train, X_test, y_train, y_test = train_test_split(X, y, test_size=0.3, stratify=y)\n",
        "\n",
        "# データを標準化\n",
        "sc = StandardScaler()\n",
        "X_train_std = sc.fit_transform(X_train)\n",
        "X_test_std = sc.transform(X_test)"
      ],
      "execution_count": 4,
      "outputs": []
    },
    {
      "metadata": {
        "id": "G3OAAsE2gUJh",
        "colab_type": "code",
        "colab": {
          "base_uri": "https://localhost:8080/",
          "height": 34
        },
        "outputId": "0ae3d565-2ec3-4805-c3a8-0594a139f3ec"
      },
      "cell_type": "code",
      "source": [
        "X_train_std.shape"
      ],
      "execution_count": 5,
      "outputs": [
        {
          "output_type": "execute_result",
          "data": {
            "text/plain": [
              "(124, 13)"
            ]
          },
          "metadata": {
            "tags": []
          },
          "execution_count": 5
        }
      ]
    },
    {
      "metadata": {
        "id": "-R2O9KV2K445",
        "colab_type": "text"
      },
      "cell_type": "markdown",
      "source": [
        "## 分散共分散行列を計算する\n",
        "ワインデータセットの場合、13×13の分散共分散行列から13個の固有ベクトルと固有値が得られる。"
      ]
    },
    {
      "metadata": {
        "id": "U7h_v0-tJQuw",
        "colab_type": "code",
        "colab": {
          "base_uri": "https://localhost:8080/",
          "height": 34
        },
        "outputId": "d11b2659-cccd-40d3-b13e-6f6af1545f37"
      },
      "cell_type": "code",
      "source": [
        "# 分散共分散行列を作成\n",
        "cov_mat = np.cov(X_test_std.T)\n",
        "cov_mat.shape"
      ],
      "execution_count": 6,
      "outputs": [
        {
          "output_type": "execute_result",
          "data": {
            "text/plain": [
              "(13, 13)"
            ]
          },
          "metadata": {
            "tags": []
          },
          "execution_count": 6
        }
      ]
    },
    {
      "metadata": {
        "id": "VbvpWNm7L4N5",
        "colab_type": "code",
        "colab": {
          "base_uri": "https://localhost:8080/",
          "height": 17
        },
        "outputId": "2107d7b5-d7b4-4540-a2f5-c23593af404f"
      },
      "cell_type": "code",
      "source": [
        "# 固有値と固有ベクトルを計算\n",
        "eigen_vals, eigen_vecs = np.linalg.eig(cov_mat)"
      ],
      "execution_count": 7,
      "outputs": []
    },
    {
      "metadata": {
        "id": "BA_rR0f-5T-B",
        "colab_type": "text"
      },
      "cell_type": "markdown",
      "source": [
        "## 固有値の分散説明率を計算\n",
        "固有値λjの分散説明率（var explained retion）とは固有値の合計に対する固有値λjの割合"
      ]
    },
    {
      "metadata": {
        "id": "ns729dfB5oXZ",
        "colab_type": "code",
        "colab": {
          "base_uri": "https://localhost:8080/",
          "height": 17
        },
        "outputId": "eea98345-0cf0-4fc8-ac94-002cdcf022cf"
      },
      "cell_type": "code",
      "source": [
        "# 固有値を合計\n",
        "tot = sum(eigen_vals)\n",
        "\n",
        "# 分散説明率を計算\n",
        "var_exp = [(i / tot) for i in sorted(eigen_vals, reverse=True)]\n",
        "\n",
        "# 分散説明率の累積和を算出\n",
        "cum_var_exp = np.cumsum(var_exp)"
      ],
      "execution_count": 8,
      "outputs": []
    },
    {
      "metadata": {
        "id": "wX5m8xyr6hWR",
        "colab_type": "code",
        "colab": {
          "base_uri": "https://localhost:8080/",
          "height": 401
        },
        "outputId": "16f345c9-eda6-42a4-9a02-57d6d9d3064b"
      },
      "cell_type": "code",
      "source": [
        "import matplotlib.pyplot as plt\n",
        "\n",
        "# 分散説明率のグラフを作成\n",
        "plt.bar(range(1, 14), var_exp, alpha=0.5, align=\"center\", label=\"individual explained variance\")\n",
        "\n",
        "# 分散説明率の累積和の階段グラフを作成\n",
        "plt.step(range(1, 14), cum_var_exp, where=\"mid\", label=\"cumulative explained variance\")\n",
        "\n",
        "plt.ylabel(\"Explained variance ratio\")\n",
        "plt.xlabel(\"Principal component index\")\n",
        "plt.legend(loc=\"best\")\n",
        "plt.tight_layout()\n",
        "plt.show()"
      ],
      "execution_count": 9,
      "outputs": [
        {
          "output_type": "display_data",
          "data": {
            "image/png": "[encoded data removed]",
            "text/plain": [
              "<matplotlib.figure.Figure at 0x7efddbd4a860>"
            ]
          },
          "metadata": {
            "tags": []
          }
        }
      ]
    },
    {
      "metadata": {
        "id": "egq-7GJKHkx3",
        "colab_type": "text"
      },
      "cell_type": "markdown",
      "source": [
        "## 固有ベクトルから射影行列を生成し、データをより低い次元の部分空間に変換"
      ]
    },
    {
      "metadata": {
        "id": "CuBgNp7hH2Ie",
        "colab_type": "code",
        "colab": {
          "base_uri": "https://localhost:8080/",
          "height": 17
        },
        "outputId": "7422ec35-740f-40dd-922a-fba6e39cb558"
      },
      "cell_type": "code",
      "source": [
        "# （固有値, 固有ベクトル）のタプルのリストを作成\n",
        "eigen_pairs = [(np.abs(eigen_vals[i]), eigen_vecs[:, i]) for i in range(len(eigen_vals))]\n",
        "\n",
        "# （固有値, 固有ベクトル）のタプルを大きいものから順に並べ替え\n",
        "eigen_pairs.sort(key=lambda k: k[0], reverse=True)"
      ],
      "execution_count": 10,
      "outputs": []
    },
    {
      "metadata": {
        "id": "HbIvxr73J3tZ",
        "colab_type": "text"
      },
      "cell_type": "markdown",
      "source": [
        "最も大きい2つの固有値に対応する2つのベクトルを集める。それにより、このデータセットにおける分散の約60%を捉えることができる。<b>実務では、計算効率と分類器の性能のバランスを見ながら、主成分の個数を決定する。</b>"
      ]
    },
    {
      "metadata": {
        "id": "1skkLbQrKnzl",
        "colab_type": "code",
        "colab": {
          "base_uri": "https://localhost:8080/",
          "height": 918
        },
        "outputId": "b1d16eee-da10-453a-a829-68065ebee5ee"
      },
      "cell_type": "code",
      "source": [
        "eigen_pairs"
      ],
      "execution_count": 11,
      "outputs": [
        {
          "output_type": "execute_result",
          "data": {
            "text/plain": [
              "[(5.402090084713561,\n",
              "  array([ 0.1556483 , -0.2452097 , -0.08150971, -0.24843062,  0.08521154,\n",
              "          0.37015094,  0.42284281, -0.28503092,  0.31500479, -0.10345505,\n",
              "          0.30414865,  0.38480179,  0.30407734])),\n",
              " (2.7197455514349334,\n",
              "  array([-4.55389486e-01, -1.51397299e-01, -1.91805050e-01, -1.43576667e-02,\n",
              "         -2.20873692e-01, -8.99536856e-02,  1.34977236e-02, -2.59228809e-04,\n",
              "         -1.82436722e-01, -6.66506000e-01,  2.25350851e-01,  2.06153406e-01,\n",
              "         -3.23804272e-01])),\n",
              " (1.038602931770949,\n",
              "  array([-0.09454355, -0.04373965,  0.32840544,  0.42123488, -0.48187743,\n",
              "          0.36729159,  0.25167326,  0.15680221,  0.24256368,  0.07028   ,\n",
              "         -0.32470994,  0.18807011, -0.21033482])),\n",
              " (0.8619614958513491,\n",
              "  array([ 0.07645229,  0.14350721,  0.55098939, -0.09154941, -0.07077057,\n",
              "          0.08657322,  0.07619812,  0.46135571, -0.35442322, -0.23274609,\n",
              "          0.29536748, -0.01653062,  0.4038932 ])),\n",
              " (0.6846625027259304,\n",
              "  array([-0.32487714,  0.05385898,  0.44845426,  0.29574549,  0.67915325,\n",
              "         -0.04217779, -0.0630157 , -0.12684998,  0.28923294, -0.15710519,\n",
              "          0.03040092,  0.07221165, -0.07355925])),\n",
              " (0.6007030044999208,\n",
              "  array([ 0.2537831 ,  0.62076359,  0.07765337,  0.09151692, -0.12313951,\n",
              "         -0.04123429,  0.04925348, -0.5488718 , -0.15537796, -0.33685982,\n",
              "         -0.23278293,  0.1196178 ,  0.09580387])),\n",
              " (0.40705858362837616,\n",
              "  array([ 0.12424699, -0.21207125,  0.00178403,  0.10388937,  0.32628352,\n",
              "          0.45632339,  0.1052359 , -0.13931231, -0.68653286,  0.11121506,\n",
              "         -0.09048865,  0.05132548, -0.29849478])),\n",
              " (0.344413002291854,\n",
              "  array([ 0.01593281, -0.28278603,  0.16747539,  0.47844558, -0.26709759,\n",
              "         -0.26943066, -0.0121124 , -0.4321444 , -0.14875482,  0.22129926,\n",
              "          0.478242  , -0.1273246 ,  0.12634163])),\n",
              " (0.30249852940593713,\n",
              "  array([ 0.59381838, -0.02708804, -0.17956017,  0.38941372,  0.1210764 ,\n",
              "         -0.13412648, -0.25084033,  0.315128  ,  0.08845568, -0.15046228,\n",
              "          0.15882868,  0.43901716, -0.13949627])),\n",
              " (0.24012007351193537,\n",
              "  array([-0.08187083,  0.37982316, -0.39372662,  0.35409605,  0.05982339,\n",
              "          0.45114707,  0.06206104,  0.12471068,  0.12224492, -0.07387609,\n",
              "          0.35668206, -0.4388615 ,  0.04343976])),\n",
              " (0.17648681644402323,\n",
              "  array([ 0.44011947, -0.16886162,  0.30244061, -0.23666785, -0.05714867,\n",
              "          0.06380179, -0.00259896, -0.10568277,  0.23375172, -0.28766259,\n",
              "          0.11977373, -0.49785868, -0.4606384 ])),\n",
              " (0.13155794396018858,\n",
              "  array([-0.07958348,  0.45490092,  0.13340412, -0.25247708, -0.05232706,\n",
              "         -0.04898974,  0.0960473 ,  0.01054259,  0.00355921,  0.41804971,\n",
              "          0.44508386,  0.28866406, -0.4842635 ])),\n",
              " (0.07068083858987406,\n",
              "  array([-0.09277182, -0.02836758,  0.11578256, -0.14116886, -0.16817405,\n",
              "          0.44743845, -0.81132837, -0.17797473,  0.06604345,  0.02908874,\n",
              "          0.08439401,  0.13744177,  0.08730143]))]"
            ]
          },
          "metadata": {
            "tags": []
          },
          "execution_count": 11
        }
      ]
    },
    {
      "metadata": {
        "id": "-0qCDg3zLk4W",
        "colab_type": "code",
        "colab": {
          "base_uri": "https://localhost:8080/",
          "height": 255
        },
        "outputId": "1a152881-12ff-49a3-a1fc-a268b7e58415"
      },
      "cell_type": "code",
      "source": [
        "# 上位2つの固有ベクトルから13×2次元の射影行列Wを作成\n",
        "w = np.hstack((eigen_pairs[0][1][:, np.newaxis], eigen_pairs[1][1][:, np.newaxis]))\n",
        "print(\"Matrix W:\\n\", w)"
      ],
      "execution_count": 12,
      "outputs": [
        {
          "output_type": "stream",
          "text": [
            "Matrix W:\n",
            " [[ 1.55648304e-01 -4.55389486e-01]\n",
            " [-2.45209699e-01 -1.51397299e-01]\n",
            " [-8.15097066e-02 -1.91805050e-01]\n",
            " [-2.48430624e-01 -1.43576667e-02]\n",
            " [ 8.52115427e-02 -2.20873692e-01]\n",
            " [ 3.70150944e-01 -8.99536856e-02]\n",
            " [ 4.22842806e-01  1.34977236e-02]\n",
            " [-2.85030920e-01 -2.59228809e-04]\n",
            " [ 3.15004789e-01 -1.82436722e-01]\n",
            " [-1.03455045e-01 -6.66506000e-01]\n",
            " [ 3.04148654e-01  2.25350851e-01]\n",
            " [ 3.84801787e-01  2.06153406e-01]\n",
            " [ 3.04077338e-01 -3.23804272e-01]]\n"
          ],
          "name": "stdout"
        }
      ]
    },
    {
      "metadata": {
        "id": "nSuV-BXHVtQ6",
        "colab_type": "text"
      },
      "cell_type": "markdown",
      "source": [
        "行列の内積を計算することにより、124×13次元のトレーニングデータセット全体を2つの主成分に変換できる。"
      ]
    },
    {
      "metadata": {
        "id": "QzmI51yBV2c-",
        "colab_type": "code",
        "colab": {
          "base_uri": "https://localhost:8080/",
          "height": 17
        },
        "outputId": "fdf41743-b7a5-4564-bcb6-9819256d68db"
      },
      "cell_type": "code",
      "source": [
        "X_train_pca = X_train_std.dot(w)"
      ],
      "execution_count": 13,
      "outputs": []
    },
    {
      "metadata": {
        "id": "ovTnL_sJWMwn",
        "colab_type": "text"
      },
      "cell_type": "markdown",
      "source": [
        "## 変換後のデータセットを、2次元の散布図としてプロット"
      ]
    },
    {
      "metadata": {
        "id": "AXH_0jsIWbgN",
        "colab_type": "code",
        "colab": {
          "base_uri": "https://localhost:8080/",
          "height": 401
        },
        "outputId": "1d8fad22-b25c-4ec5-94b8-c75b11e71050"
      },
      "cell_type": "code",
      "source": [
        "colors = [\"r\", \"b\", \"g\"]\n",
        "markers = [\"s\", \"x\", \"o\"]\n",
        "\n",
        "# 「クラスラベル」「点の色」「点の種類」の組み合わせからなるリストを生成してプロット\n",
        "for l, c, m in zip(np.unique(y_train), colors, markers):\n",
        "  plt.scatter(X_train_pca[y_train == l, 0], X_train_pca[y_train == l, 1], c=c, label=l, marker=m)\n",
        "  \n",
        "plt.xlabel(\"PC 1\")\n",
        "plt.ylabel(\"PC 2\")\n",
        "plt.legend(loc=\"lower left\")\n",
        "plt.tight_layout()\n",
        "plt.show()"
      ],
      "execution_count": 14,
      "outputs": [
        {
          "output_type": "display_data",
          "data": {
            "image/png": "[encoded data removed]",
            "text/plain": [
              "<matplotlib.figure.Figure at 0x7efdd93efcf8>"
            ]
          },
          "metadata": {
            "tags": []
          }
        }
      ]
    },
    {
      "metadata": {
        "id": "MWmkt-f-jJ8m",
        "colab_type": "text"
      },
      "cell_type": "markdown",
      "source": [
        "# scikit-learnで主成分分析"
      ]
    },
    {
      "metadata": {
        "id": "XkdO4ZbQkSvj",
        "colab_type": "text"
      },
      "cell_type": "markdown",
      "source": [
        "## プロットの準備"
      ]
    },
    {
      "metadata": {
        "id": "dVyxFVCejPEI",
        "colab_type": "code",
        "colab": {
          "base_uri": "https://localhost:8080/",
          "height": 17
        },
        "outputId": "32825660-d861-41ed-e3f2-d9fd795ca663"
      },
      "cell_type": "code",
      "source": [
        "from matplotlib.colors import ListedColormap\n",
        "\n",
        "def plot_decision_regions(X, y, classifier, resolution=0.02):\n",
        "  # マーカーとカラーマップの準備\n",
        "  markers = (\"s\", \"x\", \"o\", \"^\", \"v\")\n",
        "  colors = (\"red\", \"blue\", \"lightgreen\", \"gray\", \"cyan\")\n",
        "  cmap = ListedColormap(colors[:len(np.unique(y))])\n",
        "  \n",
        "  # 決定領域のプロット\n",
        "  x1_min, x1_max = X[:, 0].min() - 1, X[:, 0].max() + 1\n",
        "  x2_min, x2_max = X[:, 1].min() - 1, X[:, 1].max() + 1\n",
        "  \n",
        "  # グリッドポイントの生成\n",
        "  xx1, xx2 = np.meshgrid(np.arange(x1_min, x1_max, resolution), np.arange(x2_min, x2_max, resolution))\n",
        "  \n",
        "  # 各特徴量を1次元配列に変換して予測を実行\n",
        "  Z = classifier.predict(np.array([xx1.ravel(), xx2.ravel()]).T)\n",
        "  \n",
        "  # 予測結果を元のグリッドポイントのデータサイズに変換\n",
        "  Z = Z.reshape(xx1.shape)\n",
        "  \n",
        "  # グリッドポイントの等高線のプロット\n",
        "  plt.contourf(xx1, xx2, Z, alpha=0.4, cmap=cmap)\n",
        "  \n",
        "  # 軸の範囲の設定\n",
        "  plt.xlim(xx1.min(), xx1.max())\n",
        "  plt.ylim(xx2.min(), xx2.max())\n",
        "  \n",
        "  # クラスごとにサンプルをプロット\n",
        "  for idx, cl in enumerate(np.unique(y)):\n",
        "    plt.scatter(x=X[y == cl, 0],\n",
        "                        y=X[y == cl, 1],\n",
        "                        alpha=0.6,\n",
        "                        c=cmap(idx),\n",
        "                        edgecolor=\"black\",\n",
        "                        marker=markers[idx],\n",
        "                        label=cl)"
      ],
      "execution_count": 15,
      "outputs": []
    },
    {
      "metadata": {
        "id": "cQ80dmt4kg9L",
        "colab_type": "code",
        "colab": {
          "base_uri": "https://localhost:8080/",
          "height": 85
        },
        "outputId": "6bfb13d3-4c63-4fd1-afb8-fb7615bdf5c1"
      },
      "cell_type": "code",
      "source": [
        "from sklearn.linear_model import LogisticRegression\n",
        "from sklearn.decomposition import PCA\n",
        "\n",
        "# 主成分数を指定して、PCAのインスタンスを生成\n",
        "pca = PCA(n_components=2)\n",
        "\n",
        "# ロジスティック回帰のインスタンスを生成\n",
        "lr = LogisticRegression()\n",
        "\n",
        "# トレーニングデータとテストデータでPCAを実行\n",
        "X_train_pca = pca.fit_transform(X_train_std)\n",
        "X_test_pca = pca.transform(X_test_std)\n",
        "\n",
        "# トレーニングデータでロジスティック回帰を実行\n",
        "lr.fit(X_train_pca, y_train)"
      ],
      "execution_count": 21,
      "outputs": [
        {
          "output_type": "execute_result",
          "data": {
            "text/plain": [
              "LogisticRegression(C=1.0, class_weight=None, dual=False, fit_intercept=True,\n",
              "          intercept_scaling=1, max_iter=100, multi_class='ovr', n_jobs=1,\n",
              "          penalty='l2', random_state=None, solver='liblinear', tol=0.0001,\n",
              "          verbose=0, warm_start=False)"
            ]
          },
          "metadata": {
            "tags": []
          },
          "execution_count": 21
        }
      ]
    },
    {
      "metadata": {
        "id": "O-hgmJ0BlqcF",
        "colab_type": "code",
        "colab": {
          "base_uri": "https://localhost:8080/",
          "height": 401
        },
        "outputId": "00c7fe9c-3900-42ad-cd23-f0d6e281f8d6"
      },
      "cell_type": "code",
      "source": [
        "# 決定境界をプロット\n",
        "plot_decision_regions(X_train_pca, y_train, classifier=lr)\n",
        "plt.xlabel(\"PC1\")\n",
        "plt.ylabel(\"PC2\")\n",
        "plt.legend(loc=\"lower left\")\n",
        "plt.tight_layout()\n",
        "plt.show()"
      ],
      "execution_count": 22,
      "outputs": [
        {
          "output_type": "display_data",
          "data": {
            "image/png": "[encoded data removed]",
            "text/plain": [
              "<matplotlib.figure.Figure at 0x7efdd6f94080>"
            ]
          },
          "metadata": {
            "tags": []
          }
        }
      ]
    },
    {
      "metadata": {
        "id": "h5SlWNIMmxUw",
        "colab_type": "text"
      },
      "cell_type": "markdown",
      "source": [
        "## 変換後のテストデータセットでロジスティック回帰"
      ]
    },
    {
      "metadata": {
        "id": "1GR0WvhsmDkZ",
        "colab_type": "code",
        "colab": {
          "base_uri": "https://localhost:8080/",
          "height": 401
        },
        "outputId": "673a3e66-1ac9-467a-b0b1-fcfb963c4c78"
      },
      "cell_type": "code",
      "source": [
        "# 決定境界をプロット\n",
        "plot_decision_regions(X_test_pca, y_test, classifier=lr)\n",
        "plt.xlabel(\"PC1\")\n",
        "plt.ylabel(\"PC2\")\n",
        "plt.legend(loc=\"lower left\")\n",
        "plt.tight_layout()\n",
        "plt.show()"
      ],
      "execution_count": 23,
      "outputs": [
        {
          "output_type": "display_data",
          "data": {
            "image/png": "[encoded data removed]",
            "text/plain": [
              "<matplotlib.figure.Figure at 0x7efdd6f94dd8>"
            ]
          },
          "metadata": {
            "tags": []
          }
        }
      ]
    },
    {
      "metadata": {
        "id": "TARGKky-oqB3",
        "colab_type": "text"
      },
      "cell_type": "markdown",
      "source": [
        "## 全ての主成分の分散説明率"
      ]
    },
    {
      "metadata": {
        "id": "n6TrB2IHntu0",
        "colab_type": "code",
        "colab": {
          "base_uri": "https://localhost:8080/",
          "height": 68
        },
        "outputId": "c70252fd-8363-46ca-db2e-49b08d326829"
      },
      "cell_type": "code",
      "source": [
        "# NoneでPCAクラスを初期化\n",
        "pca = PCA(n_components=None)\n",
        "X_train_pca = pca.fit_transform(X_train_std)\n",
        "\n",
        "# 分散説明率を計算\n",
        "pca.explained_variance_ratio_"
      ],
      "execution_count": 26,
      "outputs": [
        {
          "output_type": "execute_result",
          "data": {
            "text/plain": [
              "array([0.34877356, 0.19862434, 0.12085851, 0.07711475, 0.06583515,\n",
              "       0.04897995, 0.04003769, 0.02346605, 0.02164302, 0.01795995,\n",
              "       0.01616894, 0.01202903, 0.00850906])"
            ]
          },
          "metadata": {
            "tags": []
          },
          "execution_count": 26
        }
      ]
    },
    {
      "metadata": {
        "id": "L4qJmwLupGXt",
        "colab_type": "code",
        "colab": {}
      },
      "cell_type": "code",
      "source": [
        ""
      ],
      "execution_count": 0,
      "outputs": []
    }
  ]
}